{
 "cells": [
  {
   "cell_type": "code",
   "execution_count": 63,
   "id": "003b0124-65d0-4c4d-8013-b8813902ac38",
   "metadata": {},
   "outputs": [],
   "source": [
    "from qiskit import *\n",
    "from qiskit.opflow import X, Y, Z, I, PauliTrotterEvolution\n",
    "from qiskit.opflow import (StateFn, Zero, One, Plus, Minus, H,\n",
    "                           DictStateFn, VectorStateFn, CircuitStateFn, OperatorStateFn)\n",
    "from qiskit.circuit import Parameter, Gate\n",
    "from qiskit.quantum_info.operators import Operator, Pauli\n",
    "import numpy as np\n",
    "import math"
   ]
  },
  {
   "cell_type": "code",
   "execution_count": 48,
   "id": "502e8676-2c04-47d1-9897-66f24d9b7ece",
   "metadata": {},
   "outputs": [
    {
     "data": {
      "text/plain": [
       "array([[ 1.  ,  0.  ,  0.  ,  0.  ,  0.  ,  0.  ,  0.  ,  0.  ,  0.  ,\n",
       "         0.  ,  0.  ,  0.  ,  0.  ,  0.  ,  0.  ,  0.  ],\n",
       "       [ 0.  ,  1.  ,  0.  ,  0.  ,  0.  ,  0.  ,  0.  ,  0.  ,  0.  ,\n",
       "         0.  ,  0.  ,  0.  ,  0.  ,  0.  ,  0.  ,  0.  ],\n",
       "       [ 0.  ,  0.  ,  1.  ,  0.  ,  0.  ,  0.  ,  0.  ,  0.  ,  0.  ,\n",
       "         0.  ,  0.  ,  0.  ,  0.  ,  0.  ,  0.  ,  0.  ],\n",
       "       [ 0.  ,  0.  ,  0.  ,  1.  ,  0.  ,  0.  ,  0.  ,  0.  ,  0.  ,\n",
       "         0.  ,  0.  ,  0.  ,  0.  ,  0.  ,  0.  ,  0.  ],\n",
       "       [ 0.  ,  0.  ,  0.  ,  0.  ,  1.  ,  0.  ,  0.  ,  0.  ,  0.  ,\n",
       "         0.  ,  0.  ,  0.  ,  0.  ,  0.  ,  0.  ,  0.  ],\n",
       "       [ 0.  ,  0.  ,  0.  ,  0.  ,  0.  ,  1.  ,  0.  ,  0.  ,  0.  ,\n",
       "         0.  ,  0.  ,  0.  ,  0.  ,  0.  ,  0.  ,  0.  ],\n",
       "       [ 0.  ,  0.  ,  0.  ,  0.  ,  0.  ,  0.  ,  1.  ,  0.  ,  0.  ,\n",
       "         0.  ,  0.  ,  0.  ,  0.  ,  0.  ,  0.  ,  0.  ],\n",
       "       [ 0.  ,  0.  ,  0.  ,  0.  ,  0.  ,  0.  ,  0.  ,  1.  ,  0.  ,\n",
       "         0.  ,  0.  ,  0.  ,  0.  ,  0.  ,  0.  ,  0.  ],\n",
       "       [ 0.  ,  0.  ,  0.  ,  0.  ,  0.  ,  0.  ,  0.  ,  0.  ,  1.  ,\n",
       "         0.  ,  0.  ,  0.  ,  0.  ,  0.  ,  0.  ,  0.  ],\n",
       "       [ 0.  ,  0.  ,  0.  ,  0.  ,  0.  ,  0.  ,  0.  ,  0.  ,  0.  ,\n",
       "         1.  ,  0.  ,  0.  ,  0.  ,  0.  ,  0.  ,  0.  ],\n",
       "       [ 0.  ,  0.  ,  0.  ,  0.  ,  0.  ,  0.  ,  0.  ,  0.  ,  0.  ,\n",
       "         0.  ,  0.75,  0.  ,  0.  ,  0.  ,  0.  , -0.25],\n",
       "       [ 0.  ,  0.  ,  0.  ,  0.  ,  0.  ,  0.  ,  0.  ,  0.  ,  0.  ,\n",
       "         0.  ,  0.  ,  1.  ,  0.  ,  0.  ,  0.  ,  0.  ],\n",
       "       [ 0.  ,  0.  ,  0.  ,  0.  ,  0.  ,  0.  ,  0.  ,  0.  ,  0.  ,\n",
       "         0.  ,  0.  ,  0.  ,  1.  ,  0.  ,  0.  ,  0.  ],\n",
       "       [ 0.  ,  0.  ,  0.  ,  0.  ,  0.  ,  0.  ,  0.  ,  0.  ,  0.  ,\n",
       "         0.  ,  0.  ,  0.  ,  0.  ,  1.  ,  0.  ,  0.  ],\n",
       "       [ 0.  ,  0.  ,  0.  ,  0.  ,  0.  ,  0.  ,  0.  ,  0.  ,  0.  ,\n",
       "         0.  ,  0.  ,  0.  ,  0.  ,  0.  ,  1.  ,  0.  ],\n",
       "       [ 0.  ,  0.  ,  0.  ,  0.  ,  0.  ,  0.  ,  0.  ,  0.  ,  0.  ,\n",
       "         0.  , -0.25,  0.  ,  0.  ,  0.  ,  0.  ,  0.75]])"
      ]
     },
     "execution_count": 48,
     "metadata": {},
     "output_type": "execute_result"
    }
   ],
   "source": [
    "f = 0.5\n",
    "state2 = np.array([0,0,1,0])\n",
    "state3 = np.array([0,0,0,1])\n",
    "state22 = np.kron(state2,state2)\n",
    "state33 = np.kron(state3,state3)\n",
    "state22t = np.vstack(state22)\n",
    "state33t = np.vstack(state33)\n",
    "Hq = np.identity(16)-(1-f)*np.kron((state22 + state33)/math.sqrt(2),(state22t + state33t)/math.sqrt(2))\n",
    "Hq"
   ]
  },
  {
   "cell_type": "code",
   "execution_count": 86,
   "id": "12cb09a3-6164-49af-8f61-54482c03844f",
   "metadata": {},
   "outputs": [
    {
     "data": {
      "text/plain": [
       "Operator([[ 0.87758256+0.47942554j,  0.        +0.j        ,\n",
       "            0.        +0.j        ,  0.        +0.j        ,\n",
       "            0.        +0.j        ,  0.        +0.j        ,\n",
       "            0.        +0.j        ,  0.        +0.j        ,\n",
       "            0.        +0.j        ,  0.        +0.j        ,\n",
       "            0.        +0.j        ,  0.        +0.j        ,\n",
       "            0.        +0.j        ,  0.        +0.j        ,\n",
       "            0.        +0.j        ,  0.        +0.j        ],\n",
       "          [ 0.        +0.j        ,  0.87758256+0.47942554j,\n",
       "            0.        +0.j        ,  0.        +0.j        ,\n",
       "            0.        +0.j        ,  0.        +0.j        ,\n",
       "            0.        +0.j        ,  0.        +0.j        ,\n",
       "            0.        +0.j        ,  0.        +0.j        ,\n",
       "            0.        +0.j        ,  0.        +0.j        ,\n",
       "            0.        +0.j        ,  0.        +0.j        ,\n",
       "            0.        +0.j        ,  0.        +0.j        ],\n",
       "          [ 0.        +0.j        ,  0.        +0.j        ,\n",
       "            0.87758256+0.47942554j, -0.        +0.j        ,\n",
       "            0.        +0.j        ,  0.        +0.j        ,\n",
       "            0.        +0.j        ,  0.        +0.j        ,\n",
       "            0.        +0.j        ,  0.        +0.j        ,\n",
       "            0.        +0.j        ,  0.        +0.j        ,\n",
       "            0.        +0.j        ,  0.        +0.j        ,\n",
       "            0.        +0.j        ,  0.        +0.j        ],\n",
       "          [-0.        +0.j        , -0.        +0.j        ,\n",
       "           -0.        +0.j        ,  0.87758256+0.47942554j,\n",
       "           -0.        +0.j        , -0.        +0.j        ,\n",
       "           -0.        +0.j        , -0.        +0.j        ,\n",
       "           -0.        +0.j        , -0.        +0.j        ,\n",
       "           -0.        +0.j        , -0.        +0.j        ,\n",
       "           -0.        +0.j        , -0.        +0.j        ,\n",
       "           -0.        +0.j        , -0.        +0.j        ],\n",
       "          [ 0.        +0.j        ,  0.        +0.j        ,\n",
       "            0.        +0.j        ,  0.        +0.j        ,\n",
       "            0.87758256+0.47942554j,  0.        +0.j        ,\n",
       "            0.        +0.j        ,  0.        +0.j        ,\n",
       "            0.        +0.j        ,  0.        +0.j        ,\n",
       "            0.        +0.j        ,  0.        +0.j        ,\n",
       "            0.        +0.j        ,  0.        +0.j        ,\n",
       "            0.        +0.j        ,  0.        +0.j        ],\n",
       "          [ 0.        +0.j        ,  0.        +0.j        ,\n",
       "            0.        +0.j        ,  0.        +0.j        ,\n",
       "            0.        +0.j        ,  0.87758256+0.47942554j,\n",
       "            0.        +0.j        ,  0.        +0.j        ,\n",
       "            0.        +0.j        ,  0.        +0.j        ,\n",
       "            0.        +0.j        ,  0.        +0.j        ,\n",
       "            0.        +0.j        ,  0.        +0.j        ,\n",
       "            0.        +0.j        ,  0.        +0.j        ],\n",
       "          [ 0.        +0.j        ,  0.        +0.j        ,\n",
       "            0.        +0.j        ,  0.        +0.j        ,\n",
       "            0.        +0.j        ,  0.        +0.j        ,\n",
       "            0.87758256+0.47942554j, -0.        +0.j        ,\n",
       "            0.        +0.j        ,  0.        +0.j        ,\n",
       "            0.        +0.j        ,  0.        +0.j        ,\n",
       "            0.        +0.j        ,  0.        +0.j        ,\n",
       "            0.        +0.j        ,  0.        +0.j        ],\n",
       "          [-0.        +0.j        , -0.        +0.j        ,\n",
       "           -0.        +0.j        , -0.        +0.j        ,\n",
       "           -0.        +0.j        , -0.        +0.j        ,\n",
       "           -0.        +0.j        ,  0.87758256+0.47942554j,\n",
       "           -0.        +0.j        , -0.        +0.j        ,\n",
       "           -0.        +0.j        , -0.        +0.j        ,\n",
       "           -0.        +0.j        , -0.        +0.j        ,\n",
       "           -0.        +0.j        , -0.        +0.j        ],\n",
       "          [ 0.        +0.j        ,  0.        +0.j        ,\n",
       "            0.        +0.j        ,  0.        +0.j        ,\n",
       "            0.        +0.j        ,  0.        +0.j        ,\n",
       "            0.        +0.j        ,  0.        +0.j        ,\n",
       "            0.87758256+0.47942554j,  0.        +0.j        ,\n",
       "            0.        +0.j        ,  0.        +0.j        ,\n",
       "            0.        +0.j        ,  0.        +0.j        ,\n",
       "            0.        +0.j        ,  0.        +0.j        ],\n",
       "          [ 0.        +0.j        ,  0.        +0.j        ,\n",
       "            0.        +0.j        ,  0.        +0.j        ,\n",
       "            0.        +0.j        ,  0.        +0.j        ,\n",
       "            0.        +0.j        ,  0.        +0.j        ,\n",
       "            0.        +0.j        ,  0.87758256+0.47942554j,\n",
       "            0.        +0.j        ,  0.        +0.j        ,\n",
       "            0.        +0.j        ,  0.        +0.j        ,\n",
       "            0.        +0.j        ,  0.        +0.j        ],\n",
       "          [ 0.        +0.j        ,  0.        +0.j        ,\n",
       "            0.        +0.j        ,  0.        +0.j        ,\n",
       "            0.        +0.j        ,  0.        +0.j        ,\n",
       "            0.        +0.j        ,  0.        +0.j        ,\n",
       "            0.        +0.j        ,  0.        +0.j        ,\n",
       "            0.92324749+0.36341475j, -0.        +0.j        ,\n",
       "            0.        +0.j        ,  0.        +0.j        ,\n",
       "            0.        +0.j        ,  0.04566493-0.11601079j],\n",
       "          [-0.        +0.j        , -0.        +0.j        ,\n",
       "           -0.        +0.j        , -0.        +0.j        ,\n",
       "           -0.        +0.j        , -0.        +0.j        ,\n",
       "           -0.        +0.j        , -0.        +0.j        ,\n",
       "           -0.        +0.j        , -0.        +0.j        ,\n",
       "           -0.        +0.j        ,  0.87758256+0.47942554j,\n",
       "           -0.        +0.j        , -0.        +0.j        ,\n",
       "           -0.        +0.j        , -0.        +0.j        ],\n",
       "          [ 0.        +0.j        ,  0.        +0.j        ,\n",
       "            0.        +0.j        ,  0.        +0.j        ,\n",
       "            0.        +0.j        ,  0.        +0.j        ,\n",
       "            0.        +0.j        ,  0.        +0.j        ,\n",
       "            0.        +0.j        ,  0.        +0.j        ,\n",
       "            0.        +0.j        ,  0.        +0.j        ,\n",
       "            0.87758256+0.47942554j, -0.        +0.j        ,\n",
       "            0.        +0.j        ,  0.        +0.j        ],\n",
       "          [ 0.        +0.j        ,  0.        +0.j        ,\n",
       "            0.        +0.j        ,  0.        +0.j        ,\n",
       "            0.        +0.j        ,  0.        +0.j        ,\n",
       "            0.        +0.j        ,  0.        +0.j        ,\n",
       "            0.        +0.j        ,  0.        +0.j        ,\n",
       "            0.        +0.j        ,  0.        +0.j        ,\n",
       "            0.        +0.j        ,  0.87758256+0.47942554j,\n",
       "           -0.        +0.j        ,  0.        +0.j        ],\n",
       "          [ 0.        +0.j        ,  0.        +0.j        ,\n",
       "            0.        +0.j        ,  0.        +0.j        ,\n",
       "            0.        +0.j        ,  0.        +0.j        ,\n",
       "            0.        +0.j        ,  0.        +0.j        ,\n",
       "            0.        +0.j        ,  0.        +0.j        ,\n",
       "           -0.        +0.j        ,  0.        +0.j        ,\n",
       "            0.        +0.j        ,  0.        +0.j        ,\n",
       "            0.87758256+0.47942554j, -0.        +0.j        ],\n",
       "          [-0.        +0.j        , -0.        +0.j        ,\n",
       "           -0.        +0.j        , -0.        +0.j        ,\n",
       "           -0.        +0.j        , -0.        +0.j        ,\n",
       "           -0.        +0.j        , -0.        +0.j        ,\n",
       "           -0.        +0.j        , -0.        +0.j        ,\n",
       "            0.04566493-0.11601079j, -0.        +0.j        ,\n",
       "            0.        +0.j        ,  0.        +0.j        ,\n",
       "            0.        +0.j        ,  0.92324749+0.36341475j]],\n",
       "         input_dims=(2, 2, 2, 2), output_dims=(2, 2, 2, 2))"
      ]
     },
     "execution_count": 86,
     "metadata": {},
     "output_type": "execute_result"
    }
   ],
   "source": [
    "import scipy\n",
    "\n",
    "t = 0.5\n",
    "e_iHqt = Operator(scipy.linalg.expm((0+1j)*Hq*t))\n",
    "e_iHqt"
   ]
  },
  {
   "cell_type": "code",
   "execution_count": 87,
   "id": "515e19dc-3fea-443a-8269-4a71ae887975",
   "metadata": {},
   "outputs": [
    {
     "data": {
      "image/png": "[encoded data removed]",
      "text/plain": [
       "<Figure size 538.279x325.08 with 1 Axes>"
      ]
     },
     "execution_count": 87,
     "metadata": {},
     "output_type": "execute_result"
    }
   ],
   "source": [
    "controls = QuantumRegister(4)\n",
    "circuit = QuantumCircuit(controls)\n",
    "circuit.unitary(e_iHqt, [0,1,2,3], label='e^iHqt')\n",
    "circuit.measure_all()\n",
    "circuit.draw('mpl')"
   ]
  },
  {
   "cell_type": "code",
   "execution_count": 88,
   "id": "ba7604e1-3859-40de-bb50-a76d9b98246f",
   "metadata": {},
   "outputs": [
    {
     "data": {
      "text/plain": [
       "{'0000': 1024}"
      ]
     },
     "execution_count": 88,
     "metadata": {},
     "output_type": "execute_result"
    }
   ],
   "source": [
    "from qiskit import QuantumRegister, ClassicalRegister\n",
    "from qiskit import QuantumCircuit, execute\n",
    "from qiskit import Aer\n",
    "\n",
    "backend_sim = Aer.get_backend('qasm_simulator')\n",
    "job_sim = backend_sim.run(transpile(circuit, backend_sim), shots=1024)\n",
    "result_sim = job_sim.result()\n",
    "counts = result_sim.get_counts(circuit)\n",
    "counts\n"
   ]
  },
  {
   "cell_type": "code",
   "execution_count": null,
   "id": "443e1195-fd1b-4403-9ea1-93457ee709b8",
   "metadata": {},
   "outputs": [],
   "source": []
  }
 ],
 "metadata": {
  "kernelspec": {
   "display_name": "Python 3 [Qiskit]",
   "language": "python",
   "name": "python3_qiskit_9y9siy"
  },
  "language_info": {
   "codemirror_mode": {
    "name": "ipython",
    "version": 3
   },
   "file_extension": ".py",
   "mimetype": "text/x-python",
   "name": "python",
   "nbconvert_exporter": "python",
   "pygments_lexer": "ipython3",
   "version": "3.9.10"
  }
 },
 "nbformat": 4,
 "nbformat_minor": 5
}
