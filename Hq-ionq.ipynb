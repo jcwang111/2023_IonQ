{
 "cells": [
  {
   "cell_type": "code",
   "execution_count": 1,
   "id": "003b0124-65d0-4c4d-8013-b8813902ac38",
   "metadata": {},
   "outputs": [],
   "source": [
    "from qiskit import *\n",
    "from qiskit.opflow import X, Y, Z, I, PauliTrotterEvolution\n",
    "from qiskit.opflow import (StateFn, Zero, One, Plus, Minus, H,\n",
    "                           DictStateFn, VectorStateFn, CircuitStateFn, OperatorStateFn)\n",
    "from qiskit.circuit import Parameter, Gate\n",
    "from qiskit.quantum_info.operators import Operator, Pauli\n",
    "import numpy as np\n",
    "import math"
   ]
  },
  {
   "cell_type": "code",
   "execution_count": 2,
   "id": "f7ad794f-cd0d-489e-b0eb-5840107c4124",
   "metadata": {},
   "outputs": [],
   "source": [
    "from qiskit import QuantumCircuit\n",
    "from qiskit.visualization import plot_histogram\n",
    "from qiskit_ionq import IonQProvider\n",
    "from qiskit import QuantumRegister, ClassicalRegister\n",
    "from qiskit import QuantumCircuit, execute\n",
    "from qiskit import Aer\n",
    "from qiskit.providers.aer import QasmSimulator\n",
    "\n",
    "provider = IonQProvider(token = 'DvA5TJIIXwMEArPjI5SmGV2Ar9mUPMvo')"
   ]
  },
  {
   "cell_type": "code",
   "execution_count": 3,
   "id": "c777d0fe-9d93-4b01-a1bc-654e0c46b93d",
   "metadata": {},
   "outputs": [
    {
     "data": {
      "text/plain": [
       "[<IonQSimulatorBackend('ionq_simulator')>, <IonQQPUBackend('ionq_qpu')>]"
      ]
     },
     "execution_count": 3,
     "metadata": {},
     "output_type": "execute_result"
    }
   ],
   "source": [
    "provider.backends()"
   ]
  },
  {
   "cell_type": "code",
   "execution_count": 4,
   "id": "ab3d3173-ea16-427f-b6f4-48b7528c9dbd",
   "metadata": {},
   "outputs": [],
   "source": [
    "backend = provider.get_backend(\"ionq_simulator\")"
   ]
  },
  {
   "cell_type": "code",
   "execution_count": 5,
   "id": "502e8676-2c04-47d1-9897-66f24d9b7ece",
   "metadata": {},
   "outputs": [],
   "source": [
    "f = 0.5\n",
    "state2 = np.array([0,0,1,0])\n",
    "state3 = np.array([0,0,0,1])\n",
    "state22 = np.kron(state2,state2)\n",
    "state33 = np.kron(state3,state3)\n",
    "state22t = np.vstack(state22)\n",
    "state33t = np.vstack(state33)\n",
    "Hq = np.identity(16)-(1-f)*np.kron((state22 + state33)/math.sqrt(2),(state22t + state33t)/math.sqrt(2))\n",
    "#Hq"
   ]
  },
  {
   "cell_type": "code",
   "execution_count": 6,
   "id": "12cb09a3-6164-49af-8f61-54482c03844f",
   "metadata": {},
   "outputs": [],
   "source": [
    "import scipy\n",
    "\n",
    "t = 0.1\n",
    "e_iHqt = Operator(scipy.linalg.expm((0+1j)*Hq*t))\n",
    "#e_iHqt"
   ]
  },
  {
   "cell_type": "code",
   "execution_count": null,
   "id": "515e19dc-3fea-443a-8269-4a71ae887975",
   "metadata": {},
   "outputs": [],
   "source": [
    "controls = QuantumRegister(4)\n",
    "circuit = QuantumCircuit(controls)\n",
    "circuit.initialize([0, 1], 0)\n",
    "circuit.initialize([0, 1], 1)\n",
    "for i in range(50):\n",
    "    circuit.unitary(e_iHqt, [0,1,2,3], label='e^iHqt')\n",
    "#circuit.measure_all()\n",
    "transpiled = transpile(circuit, backend)\n",
    "#print(transpiled)\n",
    "transpiled.measure_all()\n",
    "#transpiled.draw()\n"
   ]
  },
  {
   "cell_type": "code",
   "execution_count": null,
   "id": "ba7604e1-3859-40de-bb50-a76d9b98246f",
   "metadata": {},
   "outputs": [],
   "source": [
    "\n",
    "\n",
    "job_sim = backend.run(transpiled, shots=50)\n",
    "result_sim = job_sim.result()\n",
    "counts = result_sim.get_counts()\n",
    "counts\n"
   ]
  },
  {
   "cell_type": "code",
   "execution_count": null,
   "id": "443e1195-fd1b-4403-9ea1-93457ee709b8",
   "metadata": {},
   "outputs": [],
   "source": [
    "\n",
    "transpiled.save_statevector()\n",
    "backend = QasmSimulator()\n",
    "backend_options = {'method': 'statevector'}\n",
    "job = execute(transpiled, backend, backend_options=backend_options)\n",
    "job_result = job.result()\n",
    "print(job_result.get_statevector(transpiled))"
   ]
  },
  {
   "cell_type": "code",
   "execution_count": null,
   "id": "1fbbc650-e9d0-4ccf-b07a-4deb5bb7c3fb",
   "metadata": {},
   "outputs": [],
   "source": []
  }
 ],
 "metadata": {
  "kernelspec": {
   "display_name": "Python 3 [IonQ]",
   "language": "python",
   "name": "python3_ionq_6vdluz"
  },
  "language_info": {
   "codemirror_mode": {
    "name": "ipython",
    "version": 3
   },
   "file_extension": ".py",
   "mimetype": "text/x-python",
   "name": "python",
   "nbconvert_exporter": "python",
   "pygments_lexer": "ipython3",
   "version": "3.9.10"
  }
 },
 "nbformat": 4,
 "nbformat_minor": 5
}
